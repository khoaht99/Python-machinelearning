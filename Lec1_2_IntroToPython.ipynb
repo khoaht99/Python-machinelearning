{
  "nbformat": 4,
  "nbformat_minor": 0,
  "metadata": {
    "colab": {
      "name": "Lec1.2-IntroToPython.ipynb",
      "provenance": [],
      "collapsed_sections": [],
      "authorship_tag": "ABX9TyO6E1US6wYTnLZ7EDttvGpF",
      "include_colab_link": true
    },
    "kernelspec": {
      "name": "python3",
      "display_name": "Python 3"
    },
    "language_info": {
      "name": "python"
    }
  },
  "cells": [
    {
      "cell_type": "markdown",
      "metadata": {
        "id": "view-in-github",
        "colab_type": "text"
      },
      "source": [
        "<a href=\"https://colab.research.google.com/github/icebearian/Python-machinelearning/blob/main/Lec1_2_IntroToPython.ipynb\" target=\"_parent\"><img src=\"https://colab.research.google.com/assets/colab-badge.svg\" alt=\"Open In Colab\"/></a>"
      ]
    },
    {
      "cell_type": "markdown",
      "metadata": {
        "id": "Kli2jEMQlheV"
      },
      "source": [
        "**Thư viện NumPy**\n",
        "- NumPy Array\n",
        "- Array Indexing trong NumPy\n",
        "- Các thao tác trên Array trong NumPy"
      ]
    },
    {
      "cell_type": "code",
      "metadata": {
        "id": "yvin1Ps0mX-y"
      },
      "source": [
        "import numpy as np"
      ],
      "execution_count": 1,
      "outputs": []
    },
    {
      "cell_type": "markdown",
      "metadata": {
        "id": "v2wEq0mTgwey"
      },
      "source": [
        "**NumPy Array**"
      ]
    },
    {
      "cell_type": "code",
      "metadata": {
        "colab": {
          "base_uri": "https://localhost:8080/"
        },
        "id": "WRgGMJK0gq2z",
        "outputId": "692e5f77-3235-48a2-8342-59c16e1d216e"
      },
      "source": [
        "a = np.zeros((2,2))\n",
        "print(a)\n",
        "b = np.ones((1,2))\n",
        "print(b)\n",
        "c = np.full((2,2),7)\n",
        "print(c)\n",
        "d = np.eye(2)\n",
        "print(d)\n",
        "e = np.random.random((2,2))\n",
        "print(e)"
      ],
      "execution_count": 2,
      "outputs": [
        {
          "output_type": "stream",
          "name": "stdout",
          "text": [
            "[[0. 0.]\n",
            " [0. 0.]]\n",
            "[[1. 1.]]\n",
            "[[7 7]\n",
            " [7 7]]\n",
            "[[1. 0.]\n",
            " [0. 1.]]\n",
            "[[0.47758181 0.85625566]\n",
            " [0.46489485 0.57904425]]\n"
          ]
        }
      ]
    },
    {
      "cell_type": "markdown",
      "metadata": {
        "id": "CaGuRP93hGfO"
      },
      "source": [
        "**Array Indexing**"
      ]
    },
    {
      "cell_type": "code",
      "metadata": {
        "colab": {
          "base_uri": "https://localhost:8080/"
        },
        "id": "uzJ9H7yqhIjb",
        "outputId": "f93cbd66-34f5-4d62-b351-86af086f3931"
      },
      "source": [
        "a = np.array([[1,2,3,4],\n",
        "              [5,6,7,8],\n",
        "              [9,10,11,12]])\n",
        "b = a[:2,1:3]\n",
        "print(b)\n",
        "print(a[0,1])\n",
        "b[0,0] = 77\n",
        "print(a[0,1])"
      ],
      "execution_count": 3,
      "outputs": [
        {
          "output_type": "stream",
          "name": "stdout",
          "text": [
            "[[2 3]\n",
            " [6 7]]\n",
            "2\n",
            "77\n"
          ]
        }
      ]
    },
    {
      "cell_type": "code",
      "metadata": {
        "colab": {
          "base_uri": "https://localhost:8080/"
        },
        "id": "_i7m0a96hRzt",
        "outputId": "360eec7f-02ee-4024-d25a-018a530d1995"
      },
      "source": [
        "a = np.array([[1,2,3,4],\n",
        "              [5,6,7,8],\n",
        "              [9,10,11,12]])\n",
        "row_1 = a[1,:]\n",
        "row_2 = a[1:2, :]\n",
        "print(row_1,row_1.shape)\n",
        "print(row_2,row_2.shape)\n",
        "col_1 = a[:,1]\n",
        "col_2 = a[:,2]\n",
        "print(col_1,col_1.shape)\n",
        "print(col_2,col_2.shape)"
      ],
      "execution_count": 4,
      "outputs": [
        {
          "output_type": "stream",
          "name": "stdout",
          "text": [
            "[5 6 7 8] (4,)\n",
            "[[5 6 7 8]] (1, 4)\n",
            "[ 2  6 10] (3,)\n",
            "[ 3  7 11] (3,)\n"
          ]
        }
      ]
    },
    {
      "cell_type": "code",
      "metadata": {
        "colab": {
          "base_uri": "https://localhost:8080/"
        },
        "id": "9oKfbx-Fhm6p",
        "outputId": "a6c5acba-e682-4bce-d4a7-37061b97ac89"
      },
      "source": [
        "a = np.array([[1,2],[3,4],[5,6]])\n",
        "print(a[[0,1,2],[0,1,0]])\n",
        "print(np.array([a[0,0],a[1,1],a[2,0]]))\n",
        "print(a[[0,0],[1,1]])\n",
        "print(np.array([a[0,1],a[0,1]]))"
      ],
      "execution_count": 5,
      "outputs": [
        {
          "output_type": "stream",
          "name": "stdout",
          "text": [
            "[1 4 5]\n",
            "[1 4 5]\n",
            "[2 2]\n",
            "[2 2]\n"
          ]
        }
      ]
    },
    {
      "cell_type": "code",
      "metadata": {
        "colab": {
          "base_uri": "https://localhost:8080/"
        },
        "id": "zQudiH9vhzEy",
        "outputId": "473e1d3e-1590-451d-abdb-9675549de8a3"
      },
      "source": [
        "a = np.array([[1,2,3],\n",
        "              [4,5,6],\n",
        "              [7,8,9],\n",
        "              [10,11,12]])\n",
        "print(a)\n",
        "b = np.array([0,2,0,1])\n",
        "print(a[np.arange(4),b])\n",
        "a[np.arange(4),b] += 10\n",
        "print(a)"
      ],
      "execution_count": 6,
      "outputs": [
        {
          "output_type": "stream",
          "name": "stdout",
          "text": [
            "[[ 1  2  3]\n",
            " [ 4  5  6]\n",
            " [ 7  8  9]\n",
            " [10 11 12]]\n",
            "[ 1  6  7 11]\n",
            "[[11  2  3]\n",
            " [ 4  5 16]\n",
            " [17  8  9]\n",
            " [10 21 12]]\n"
          ]
        }
      ]
    },
    {
      "cell_type": "code",
      "metadata": {
        "colab": {
          "base_uri": "https://localhost:8080/"
        },
        "id": "863qVtaViH2V",
        "outputId": "b0ed2e66-3462-4f39-c56f-9cb70b038610"
      },
      "source": [
        "a = np.array([[1,2],[3,4],[5,6]])\n",
        "bool_idx = (a > 2)\n",
        "print(bool_idx)\n",
        "print(a[bool_idx])\n",
        "print(a[a > 2])"
      ],
      "execution_count": 7,
      "outputs": [
        {
          "output_type": "stream",
          "name": "stdout",
          "text": [
            "[[False False]\n",
            " [ True  True]\n",
            " [ True  True]]\n",
            "[3 4 5 6]\n",
            "[3 4 5 6]\n"
          ]
        }
      ]
    },
    {
      "cell_type": "code",
      "metadata": {
        "colab": {
          "base_uri": "https://localhost:8080/"
        },
        "id": "EuVT9QPRoGI7",
        "outputId": "d52021f1-a9fa-4afe-c557-2f8b44a5af1d"
      },
      "source": [
        "x = np.array([1,2])\n",
        "print(x.dtype)\n",
        "\n",
        "x = np.array([1.0,2.0])\n",
        "print(x.dtype)\n",
        "\n",
        "x = np.array([1,2], dtype=np.int64)\n",
        "print(x.dtype)"
      ],
      "execution_count": 8,
      "outputs": [
        {
          "output_type": "stream",
          "name": "stdout",
          "text": [
            "int64\n",
            "float64\n",
            "int64\n"
          ]
        }
      ]
    },
    {
      "cell_type": "markdown",
      "metadata": {
        "id": "YGvtsN9UiUKI"
      },
      "source": [
        "**Các thao tác trên Array**"
      ]
    },
    {
      "cell_type": "code",
      "metadata": {
        "colab": {
          "base_uri": "https://localhost:8080/"
        },
        "id": "vQZ4t10ziT3g",
        "outputId": "5678e3aa-aef4-423c-a306-f211fdf5a848"
      },
      "source": [
        "x = np.array([[1,2],[3,4]], dtype = np.float64)\n",
        "y = np.array([[5,6],[7,8]], dtype = np.float64)\n",
        "\n",
        "print(x+y)\n",
        "print(np.add(x,y))\n",
        "print(x-y)\n",
        "print(np.subtract(x,y))\n",
        "print(x*y)\n",
        "print(np.multiply(x,y))\n",
        "print(x/y)\n",
        "print(np.divide(x,y))"
      ],
      "execution_count": 9,
      "outputs": [
        {
          "output_type": "stream",
          "name": "stdout",
          "text": [
            "[[ 6.  8.]\n",
            " [10. 12.]]\n",
            "[[ 6.  8.]\n",
            " [10. 12.]]\n",
            "[[-4. -4.]\n",
            " [-4. -4.]]\n",
            "[[-4. -4.]\n",
            " [-4. -4.]]\n",
            "[[ 5. 12.]\n",
            " [21. 32.]]\n",
            "[[ 5. 12.]\n",
            " [21. 32.]]\n",
            "[[0.2        0.33333333]\n",
            " [0.42857143 0.5       ]]\n",
            "[[0.2        0.33333333]\n",
            " [0.42857143 0.5       ]]\n"
          ]
        }
      ]
    },
    {
      "cell_type": "code",
      "metadata": {
        "colab": {
          "base_uri": "https://localhost:8080/"
        },
        "id": "fc7xR3BNjDWu",
        "outputId": "ce13a74a-e8b4-437e-ac55-fa519c962bc3"
      },
      "source": [
        "x = np.array([[1,2],[3,4]])\n",
        "y = np.array([[5,6],[7,8]])\n",
        "\n",
        "v = np.array([9,10])\n",
        "w = np.array([11,12])\n",
        "\n",
        "print(v.dot(w))\n",
        "print(np.dot(v,w))\n",
        "print(x.dot(v))\n",
        "print(np.dot(x,v).shape)\n",
        "print(x.dot(y))\n",
        "print(np.dot(x,y))"
      ],
      "execution_count": 12,
      "outputs": [
        {
          "output_type": "stream",
          "name": "stdout",
          "text": [
            "219\n",
            "219\n",
            "[29 67]\n",
            "(2,)\n",
            "[[19 22]\n",
            " [43 50]]\n",
            "[[19 22]\n",
            " [43 50]]\n"
          ]
        }
      ]
    },
    {
      "cell_type": "code",
      "metadata": {
        "colab": {
          "base_uri": "https://localhost:8080/"
        },
        "id": "PoNrPelEjFuJ",
        "outputId": "bb828339-669f-4457-e5e9-d3fd5eae0474"
      },
      "source": [
        "x = np.array([[1,2,3],[3,4,5]])\n",
        "print(np.sum(x))\n",
        "print(np.sum(x,axis=0))\n",
        "print(np.sum(x,axis=1))\n"
      ],
      "execution_count": 14,
      "outputs": [
        {
          "output_type": "stream",
          "name": "stdout",
          "text": [
            "18\n",
            "[4 6 8]\n",
            "[ 6 12]\n"
          ]
        }
      ]
    },
    {
      "cell_type": "code",
      "metadata": {
        "colab": {
          "base_uri": "https://localhost:8080/"
        },
        "id": "KcLJW80RpVzO",
        "outputId": "63e2f871-dd1e-45d5-b0c6-691eaf78edb7"
      },
      "source": [
        "x = np.array([[1,2],[3,4]])\n",
        "print(x)\n",
        "print(x.T)\n",
        "v = np.array([[1,2,3]])\n",
        "print(v)\n",
        "print(v.T)"
      ],
      "execution_count": 15,
      "outputs": [
        {
          "output_type": "stream",
          "name": "stdout",
          "text": [
            "[[1 2]\n",
            " [3 4]]\n",
            "[[1 3]\n",
            " [2 4]]\n",
            "[[1 2 3]]\n",
            "[[1]\n",
            " [2]\n",
            " [3]]\n"
          ]
        }
      ]
    },
    {
      "cell_type": "code",
      "metadata": {
        "colab": {
          "base_uri": "https://localhost:8080/"
        },
        "id": "xSC0RqTQpdHg",
        "outputId": "de906516-3613-4492-871d-543f989c4ade"
      },
      "source": [
        "x = np.array([[1,2,3],[4,5,6],[7,8,9],[10,11,12]])\n",
        "v = np.array([[1,0,1]])\n",
        "y = np.empty_like(x)\n",
        "for i in range(4):\n",
        "  y[i,:] = x[i,:] + v\n",
        "print(y)"
      ],
      "execution_count": 17,
      "outputs": [
        {
          "output_type": "stream",
          "name": "stdout",
          "text": [
            "[[ 2  2  4]\n",
            " [ 5  5  7]\n",
            " [ 8  8 10]\n",
            " [11 11 13]]\n"
          ]
        }
      ]
    },
    {
      "cell_type": "code",
      "metadata": {
        "colab": {
          "base_uri": "https://localhost:8080/"
        },
        "id": "Gzerkokopqi_",
        "outputId": "f5dfedf6-2985-419e-a722-8a7a4e8faa16"
      },
      "source": [
        "x = np.array([[1,2,3],[4,5,6],[7,8,9],[10,11,12]])\n",
        "v = np.array([[1,0,1]])\n",
        "vv = np.tile(v, (4,1))\n",
        "print(vv)\n",
        "vv2 = np.tile(v,(4,2))\n",
        "print(vv2)\n",
        "y = x + vv\n",
        "print(y)"
      ],
      "execution_count": 19,
      "outputs": [
        {
          "output_type": "stream",
          "name": "stdout",
          "text": [
            "[[1 0 1]\n",
            " [1 0 1]\n",
            " [1 0 1]\n",
            " [1 0 1]]\n",
            "[[1 0 1 1 0 1]\n",
            " [1 0 1 1 0 1]\n",
            " [1 0 1 1 0 1]\n",
            " [1 0 1 1 0 1]]\n",
            "[[ 2  2  4]\n",
            " [ 5  5  7]\n",
            " [ 8  8 10]\n",
            " [11 11 13]]\n"
          ]
        }
      ]
    },
    {
      "cell_type": "code",
      "metadata": {
        "colab": {
          "base_uri": "https://localhost:8080/"
        },
        "id": "zh5Udy7ujweo",
        "outputId": "d8bddf77-cd7d-4789-f0e3-1ff3f03004b8"
      },
      "source": [
        "x = np.array([[1,2,3],[4,5,6],[7,8,9],[10,11,12]])\n",
        "v = np.array([[1,0,1]])\n",
        "print(v+x)"
      ],
      "execution_count": 20,
      "outputs": [
        {
          "output_type": "stream",
          "name": "stdout",
          "text": [
            "[[ 2  2  4]\n",
            " [ 5  5  7]\n",
            " [ 8  8 10]\n",
            " [11 11 13]]\n"
          ]
        }
      ]
    },
    {
      "cell_type": "code",
      "metadata": {
        "colab": {
          "base_uri": "https://localhost:8080/"
        },
        "id": "DBhW7NdNj-LQ",
        "outputId": "a01cccc2-1768-4ad1-8fcc-f1587431ed87"
      },
      "source": [
        "v = np.array([1,2,3])\n",
        "w = np.array([4,5])\n",
        "x = np.array([[1,2,3],[4,5,6]])\n",
        "print(x+v)\n",
        "print((x.T+w).T)\n",
        "print(x*2)"
      ],
      "execution_count": 21,
      "outputs": [
        {
          "output_type": "stream",
          "name": "stdout",
          "text": [
            "[[2 4 6]\n",
            " [5 7 9]]\n",
            "[[ 5  6  7]\n",
            " [ 9 10 11]]\n",
            "[[ 2  4  6]\n",
            " [ 8 10 12]]\n"
          ]
        }
      ]
    }
  ]
}