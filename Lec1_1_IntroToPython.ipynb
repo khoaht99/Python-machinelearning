{
  "nbformat": 4,
  "nbformat_minor": 0,
  "metadata": {
    "colab": {
      "name": "Lec1.1-IntroToPython.ipynb",
      "provenance": [],
      "collapsed_sections": [],
      "authorship_tag": "ABX9TyPLHA1oEjjxBsSBTi8K8dnJ",
      "include_colab_link": true
    },
    "kernelspec": {
      "name": "python3",
      "display_name": "Python 3"
    },
    "language_info": {
      "name": "python"
    }
  },
  "cells": [
    {
      "cell_type": "markdown",
      "metadata": {
        "id": "view-in-github",
        "colab_type": "text"
      },
      "source": [
        "<a href=\"https://colab.research.google.com/github/icebearian/Python-machinelearning/blob/main/Lec1_1_IntroToPython.ipynb\" target=\"_parent\"><img src=\"https://colab.research.google.com/assets/colab-badge.svg\" alt=\"Open In Colab\"/></a>"
      ]
    },
    {
      "cell_type": "markdown",
      "metadata": {
        "id": "Kli2jEMQlheV"
      },
      "source": [
        "**Lập trình Python**\n",
        "- Các kiểu dữ liệu và thao tác cơ bản:\n",
        "  - Integer, Float,Boolean, String\n",
        "  - List, Dictionary, Set, Tuple\n",
        "- Cấu trúc điều khiển (rẽ nhánh)\n",
        "- Cấu trúc lặp\n",
        "- Function\n",
        "- Class"
      ]
    },
    {
      "cell_type": "markdown",
      "metadata": {
        "id": "v2wEq0mTgwey"
      },
      "source": [
        "**Float and Int**"
      ]
    },
    {
      "cell_type": "code",
      "metadata": {
        "colab": {
          "base_uri": "https://localhost:8080/"
        },
        "id": "WRgGMJK0gq2z",
        "outputId": "98a83488-85ad-46de-8df7-cbe387d1e582"
      },
      "source": [
        "x = 3\n",
        "print(type(x))\n",
        "print(x)\n",
        "print(x+1)\n",
        "print(x-1)\n",
        "print(x*2)\n",
        "x+=1\n",
        "print(x)\n",
        "x*=2\n",
        "print(x)\n",
        "print(x,x+5,x*2,x**2)\n",
        "print(x%5, x/5,x//5)"
      ],
      "execution_count": 1,
      "outputs": [
        {
          "output_type": "stream",
          "name": "stdout",
          "text": [
            "<class 'int'>\n",
            "3\n",
            "4\n",
            "2\n",
            "6\n",
            "4\n",
            "8\n",
            "8 13 16 64\n",
            "3 1.6 1\n"
          ]
        }
      ]
    },
    {
      "cell_type": "markdown",
      "metadata": {
        "id": "CaGuRP93hGfO"
      },
      "source": [
        "**Boolean**"
      ]
    },
    {
      "cell_type": "code",
      "metadata": {
        "colab": {
          "base_uri": "https://localhost:8080/"
        },
        "id": "uzJ9H7yqhIjb",
        "outputId": "10f5151f-12c4-4d8c-e073-c3c316c7e0b7"
      },
      "source": [
        "t = True\n",
        "f = False\n",
        "print(type(t))\n",
        "print(t and f)\n",
        "print(t or f)\n",
        "print(not t)\n",
        "print(t != f)"
      ],
      "execution_count": 2,
      "outputs": [
        {
          "output_type": "stream",
          "name": "stdout",
          "text": [
            "<class 'bool'>\n",
            "False\n",
            "True\n",
            "False\n",
            "True\n"
          ]
        }
      ]
    },
    {
      "cell_type": "markdown",
      "metadata": {
        "id": "ajNtC3ejhQsQ"
      },
      "source": [
        "**String**"
      ]
    },
    {
      "cell_type": "code",
      "metadata": {
        "colab": {
          "base_uri": "https://localhost:8080/"
        },
        "id": "_i7m0a96hRzt",
        "outputId": "9aac18b7-d70f-4f75-9725-c9916b4501aa"
      },
      "source": [
        "hello = 'hello'\n",
        "world = 'world'\n",
        "print(hello)\n",
        "print(len(hello))\n",
        "hw = hello + ' ' + world\n",
        "print(hw)\n",
        "hw12 = '%s %s %d' % (hello,world, 12)\n",
        "print(hw12)"
      ],
      "execution_count": 3,
      "outputs": [
        {
          "output_type": "stream",
          "name": "stdout",
          "text": [
            "hello\n",
            "5\n",
            "hello world\n",
            "hello world 12\n"
          ]
        }
      ]
    },
    {
      "cell_type": "code",
      "metadata": {
        "colab": {
          "base_uri": "https://localhost:8080/"
        },
        "id": "9oKfbx-Fhm6p",
        "outputId": "9ec99e70-3119-47ee-b1d6-53b174e44b9c"
      },
      "source": [
        "s = \"hello\"\n",
        "print(s.upper())\n",
        "print(s.capitalize())\n",
        "print(s.replace('l','(ell)'))\n",
        "print(s.find('el'))\n",
        "print('world'.strip())"
      ],
      "execution_count": 4,
      "outputs": [
        {
          "output_type": "stream",
          "name": "stdout",
          "text": [
            "HELLO\n",
            "Hello\n",
            "he(ell)(ell)o\n",
            "1\n",
            "world\n"
          ]
        }
      ]
    },
    {
      "cell_type": "markdown",
      "metadata": {
        "id": "Hx_Z84dBhz1B"
      },
      "source": [
        "**List**"
      ]
    },
    {
      "cell_type": "code",
      "metadata": {
        "colab": {
          "base_uri": "https://localhost:8080/"
        },
        "id": "zQudiH9vhzEy",
        "outputId": "344b68f3-4bb6-4ae9-a5ef-442b1d18f2d0"
      },
      "source": [
        "xs = [3,2,1]\n",
        "print(xs,xs[2])\n",
        "print(xs[-1])\n",
        "xs[2] = 'foo'\n",
        "print(xs)\n",
        "xs.append('bar')\n",
        "print(xs)\n",
        "x=xs.pop()\n",
        "print(x,xs)"
      ],
      "execution_count": 5,
      "outputs": [
        {
          "output_type": "stream",
          "name": "stdout",
          "text": [
            "[3, 2, 1] 1\n",
            "1\n",
            "[3, 2, 'foo']\n",
            "[3, 2, 'foo', 'bar']\n",
            "bar [3, 2, 'foo']\n"
          ]
        }
      ]
    },
    {
      "cell_type": "code",
      "metadata": {
        "colab": {
          "base_uri": "https://localhost:8080/"
        },
        "id": "863qVtaViH2V",
        "outputId": "dbb52223-4679-4bba-966b-9822ef3e96ed"
      },
      "source": [
        "nums = list(range(5))\n",
        "print(nums)\n",
        "print(nums[2:4])\n",
        "print(nums[2:])\n",
        "print(nums[:2])\n",
        "print(nums[:])\n",
        "print(nums[:-1])\n",
        "nums[2:4] = [8,9]\n",
        "print(nums)"
      ],
      "execution_count": 6,
      "outputs": [
        {
          "output_type": "stream",
          "name": "stdout",
          "text": [
            "[0, 1, 2, 3, 4]\n",
            "[2, 3]\n",
            "[2, 3, 4]\n",
            "[0, 1]\n",
            "[0, 1, 2, 3, 4]\n",
            "[0, 1, 2, 3]\n",
            "[0, 1, 8, 9, 4]\n"
          ]
        }
      ]
    },
    {
      "cell_type": "markdown",
      "metadata": {
        "id": "YGvtsN9UiUKI"
      },
      "source": [
        "**Dictionary**"
      ]
    },
    {
      "cell_type": "code",
      "metadata": {
        "colab": {
          "base_uri": "https://localhost:8080/"
        },
        "id": "vQZ4t10ziT3g",
        "outputId": "444d4690-8b8f-461c-b16b-25022abefab1"
      },
      "source": [
        "d = {'cat': 'cute', 'dog':'furry'}\n",
        "print(d['cat'])\n",
        "print('cat' in d)\n",
        "d['fish'] = 'wet'\n",
        "print(d['fish'])\n",
        "print(d.get('rat'))\n",
        "print(d.get('monkey','N/A'))\n",
        "print(d)"
      ],
      "execution_count": 11,
      "outputs": [
        {
          "output_type": "stream",
          "name": "stdout",
          "text": [
            "cute\n",
            "True\n",
            "wet\n",
            "None\n",
            "N/A\n",
            "{'cat': 'cute', 'dog': 'furry', 'fish': 'wet'}\n"
          ]
        }
      ]
    },
    {
      "cell_type": "markdown",
      "metadata": {
        "id": "K95oGuQDjHa_"
      },
      "source": [
        "**Set**"
      ]
    },
    {
      "cell_type": "code",
      "metadata": {
        "colab": {
          "base_uri": "https://localhost:8080/"
        },
        "id": "fc7xR3BNjDWu",
        "outputId": "db35286e-3ede-4c7c-c705-c112eb75beec"
      },
      "source": [
        "animals = {'cat','dog'}\n",
        "print('cat' in animals)\n",
        "print('fish' in animals)\n",
        "animals.add('fish')\n",
        "print('fish' in animals)\n",
        "print(len(animals))\n",
        "animals.add('cat')\n",
        "print(len(animals))\n",
        "animals.remove('cat')\n",
        "print(len(animals))"
      ],
      "execution_count": 12,
      "outputs": [
        {
          "output_type": "stream",
          "name": "stdout",
          "text": [
            "True\n",
            "False\n",
            "True\n",
            "3\n",
            "3\n",
            "2\n"
          ]
        }
      ]
    },
    {
      "cell_type": "markdown",
      "metadata": {
        "id": "GZyDqAnHjZ-f"
      },
      "source": [
        "**Tuple**"
      ]
    },
    {
      "cell_type": "code",
      "metadata": {
        "colab": {
          "base_uri": "https://localhost:8080/"
        },
        "id": "PoNrPelEjFuJ",
        "outputId": "e9ba2879-1568-4d35-8f31-328a9942ec0f"
      },
      "source": [
        "t = (5,6)\n",
        "print(type(t))\n",
        "a,b =t\n",
        "print(a,b)\n",
        "t2 = t + (7,8)\n",
        "print(t2, t2[0])\n",
        "#t2[0] = 4"
      ],
      "execution_count": 15,
      "outputs": [
        {
          "output_type": "stream",
          "name": "stdout",
          "text": [
            "<class 'tuple'>\n",
            "5 6\n",
            "(5, 6, 7, 8) 5\n"
          ]
        }
      ]
    },
    {
      "cell_type": "markdown",
      "metadata": {
        "id": "lSFZByoVjtO5"
      },
      "source": [
        "**Cấu trúc điều khiển**"
      ]
    },
    {
      "cell_type": "code",
      "metadata": {
        "colab": {
          "base_uri": "https://localhost:8080/"
        },
        "id": "zh5Udy7ujweo",
        "outputId": "6de3d0b1-0ce5-46d1-eca3-64006cb27f86"
      },
      "source": [
        "temp = 60\n",
        "if temp > 100:\n",
        "  print(\"REALLY HOT\")\n",
        "elif temp > 85:\n",
        "  print(\"Hot\")\n",
        "elif temp >= 60:\n",
        "  print(\"comfortable\")\n",
        "else:\n",
        "  print(\"cold\")"
      ],
      "execution_count": 16,
      "outputs": [
        {
          "output_type": "stream",
          "name": "stdout",
          "text": [
            "comfortable\n"
          ]
        }
      ]
    },
    {
      "cell_type": "markdown",
      "metadata": {
        "id": "wgD9yPgwj7HP"
      },
      "source": [
        "**Cấu trúc lặp trên List**"
      ]
    },
    {
      "cell_type": "code",
      "metadata": {
        "colab": {
          "base_uri": "https://localhost:8080/"
        },
        "id": "DBhW7NdNj-LQ",
        "outputId": "10ad6901-582d-4ea0-fee7-f9c57ef6b3e5"
      },
      "source": [
        "animals = ['cat', 'dog', 'monkey']\n",
        "for i in animals:\n",
        "  print(i)\n",
        "for index, item in enumerate(animals):\n",
        "  print(\"#%d: %s\" % (index,item))"
      ],
      "execution_count": 17,
      "outputs": [
        {
          "output_type": "stream",
          "name": "stdout",
          "text": [
            "cat\n",
            "dog\n",
            "monkey\n",
            "#0: cat\n",
            "#1: dog\n",
            "#2: monkey\n"
          ]
        }
      ]
    },
    {
      "cell_type": "markdown",
      "metadata": {
        "id": "NN1SYDEykLC0"
      },
      "source": [
        "**Cấu trúc lặp trên Dictionary**"
      ]
    },
    {
      "cell_type": "code",
      "metadata": {
        "colab": {
          "base_uri": "https://localhost:8080/"
        },
        "id": "3-pqvPsLkNG1",
        "outputId": "93ffcadc-d798-4bea-d3d3-f2664289eb66"
      },
      "source": [
        "d = {'fish': 0, 'cat': 4, 'spider': 8}\n",
        "print(d['spider'])\n",
        "print(d.keys())\n",
        "print(d.values())\n",
        "for animal, legs in d.items():\n",
        "  print(\"A %s has %d legs\" % (animal,legs))"
      ],
      "execution_count": 19,
      "outputs": [
        {
          "output_type": "stream",
          "name": "stdout",
          "text": [
            "8\n",
            "dict_keys(['fish', 'cat', 'spider'])\n",
            "dict_values([0, 4, 8])\n",
            "A fish has 0 legs\n",
            "A cat has 4 legs\n",
            "A spider has 8 legs\n"
          ]
        }
      ]
    },
    {
      "cell_type": "code",
      "metadata": {
        "colab": {
          "base_uri": "https://localhost:8080/"
        },
        "id": "3cE_kMYZkjMS",
        "outputId": "f2eea91d-94cf-4610-9246-af3b9f064d0c"
      },
      "source": [
        "nums = [0,1,2,3,4,5,6]\n",
        "even_square = {x: x ** 2 for x in nums if x % 2 == 0}\n",
        "print(even_square)"
      ],
      "execution_count": 20,
      "outputs": [
        {
          "output_type": "stream",
          "name": "stdout",
          "text": [
            "{0: 0, 2: 4, 4: 16, 6: 36}\n"
          ]
        }
      ]
    },
    {
      "cell_type": "markdown",
      "metadata": {
        "id": "K4vwyMbCksjJ"
      },
      "source": [
        "**Function**"
      ]
    },
    {
      "cell_type": "code",
      "metadata": {
        "colab": {
          "base_uri": "https://localhost:8080/"
        },
        "id": "OOaFUUe8kuOI",
        "outputId": "652ebd97-bf84-4375-a21b-7d25b7305e98"
      },
      "source": [
        "def sign(x):\n",
        "  if x > 0:\n",
        "    return 'positive'\n",
        "  elif x < 0:\n",
        "    return 'negative'\n",
        "  else:\n",
        "    return 'zero'\n",
        "for x in [0,5,-1]:\n",
        "  print(\"Input: %d, Output: %s\" % (x,sign(x)))"
      ],
      "execution_count": 21,
      "outputs": [
        {
          "output_type": "stream",
          "name": "stdout",
          "text": [
            "Input: 0, Output: zero\n",
            "Input: 5, Output: positive\n",
            "Input: -1, Output: negative\n"
          ]
        }
      ]
    },
    {
      "cell_type": "code",
      "metadata": {
        "colab": {
          "base_uri": "https://localhost:8080/"
        },
        "id": "PjL9xMsTk78L",
        "outputId": "94fd4835-5bb7-40bc-f23b-a78b3d49442e"
      },
      "source": [
        "def f(a,b=2,c=3):\n",
        "  print('a=',a)\n",
        "  print('b=',b)\n",
        "  print('c=',c)\n",
        "f(3,-1,1.5)\n",
        "f(1)\n",
        "f(1,2)\n",
        "f(a=0.5,c=4)"
      ],
      "execution_count": 23,
      "outputs": [
        {
          "output_type": "stream",
          "name": "stdout",
          "text": [
            "a= 3\n",
            "b= -1\n",
            "c= 1.5\n",
            "a= 1\n",
            "b= 2\n",
            "c= 3\n",
            "a= 1\n",
            "b= 2\n",
            "c= 3\n",
            "a= 0.5\n",
            "b= 2\n",
            "c= 4\n"
          ]
        }
      ]
    },
    {
      "cell_type": "markdown",
      "metadata": {
        "id": "wls_Gg3plHER"
      },
      "source": [
        "**Class**"
      ]
    },
    {
      "cell_type": "code",
      "metadata": {
        "colab": {
          "base_uri": "https://localhost:8080/"
        },
        "id": "HemrWBWxlIsu",
        "outputId": "1fb54ed6-8dfa-42c6-a8ec-1d9039e69b32"
      },
      "source": [
        "class Greeter():\n",
        "  def __init__(self,name):\n",
        "    self.name = name\n",
        "  def greet(self, loud = False):\n",
        "    if loud:\n",
        "      print(\"Hello, %s\" % self.name)\n",
        "    else:\n",
        "      print(\"Hello, %s\" % self.name)\n",
        "g = Greeter(\"VietAI\")\n",
        "g.greet()\n",
        "g.greet(loud=True)"
      ],
      "execution_count": 25,
      "outputs": [
        {
          "output_type": "stream",
          "name": "stdout",
          "text": [
            "Hello, VietAI\n",
            "Hello, VietAI\n"
          ]
        }
      ]
    }
  ]
}