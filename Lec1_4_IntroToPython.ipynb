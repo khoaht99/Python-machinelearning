{
  "nbformat": 4,
  "nbformat_minor": 0,
  "metadata": {
    "colab": {
      "name": "Lec1.4-IntroToPython.ipynb",
      "provenance": [],
      "collapsed_sections": [],
      "authorship_tag": "ABX9TyOaQeGygTy9zg9VHYbSeutt",
      "include_colab_link": true
    },
    "kernelspec": {
      "name": "python3",
      "display_name": "Python 3"
    },
    "language_info": {
      "name": "python"
    }
  },
  "cells": [
    {
      "cell_type": "markdown",
      "metadata": {
        "id": "view-in-github",
        "colab_type": "text"
      },
      "source": [
        "<a href=\"https://colab.research.google.com/github/icebearian/Python-machinelearning/blob/main/Lec1_4_IntroToPython.ipynb\" target=\"_parent\"><img src=\"https://colab.research.google.com/assets/colab-badge.svg\" alt=\"Open In Colab\"/></a>"
      ]
    },
    {
      "cell_type": "markdown",
      "metadata": {
        "id": "Kli2jEMQlheV"
      },
      "source": [
        "**Xử lý dữ liệu với Pandas**"
      ]
    },
    {
      "cell_type": "code",
      "metadata": {
        "id": "yvin1Ps0mX-y"
      },
      "source": [
        "import pandas as pd"
      ],
      "execution_count": 1,
      "outputs": []
    },
    {
      "cell_type": "markdown",
      "metadata": {
        "id": "IGHiTGokuNVx"
      },
      "source": [
        "**Tạo Data Frame**\n",
        "- Khai báo dữ liệu theo cột"
      ]
    },
    {
      "cell_type": "code",
      "metadata": {
        "id": "nZe1vVT8qy29",
        "colab": {
          "base_uri": "https://localhost:8080/",
          "height": 142
        },
        "outputId": "d4667a6b-0926-48b1-ccb1-5ef05f56c8c2"
      },
      "source": [
        "df = pd.DataFrame({\n",
        "    \"X\": [13,30,'A'],\n",
        "    \"Y\": [15,32,'B'],\n",
        "    \"Z\": [10,29,\"O\"],\n",
        "    \"T\": [12,28,\"AB\"]},\n",
        "    index = [1,2,3])\n",
        "df"
      ],
      "execution_count": 2,
      "outputs": [
        {
          "output_type": "execute_result",
          "data": {
            "text/html": [
              "<div>\n",
              "<style scoped>\n",
              "    .dataframe tbody tr th:only-of-type {\n",
              "        vertical-align: middle;\n",
              "    }\n",
              "\n",
              "    .dataframe tbody tr th {\n",
              "        vertical-align: top;\n",
              "    }\n",
              "\n",
              "    .dataframe thead th {\n",
              "        text-align: right;\n",
              "    }\n",
              "</style>\n",
              "<table border=\"1\" class=\"dataframe\">\n",
              "  <thead>\n",
              "    <tr style=\"text-align: right;\">\n",
              "      <th></th>\n",
              "      <th>X</th>\n",
              "      <th>Y</th>\n",
              "      <th>Z</th>\n",
              "      <th>T</th>\n",
              "    </tr>\n",
              "  </thead>\n",
              "  <tbody>\n",
              "    <tr>\n",
              "      <th>1</th>\n",
              "      <td>13</td>\n",
              "      <td>15</td>\n",
              "      <td>10</td>\n",
              "      <td>12</td>\n",
              "    </tr>\n",
              "    <tr>\n",
              "      <th>2</th>\n",
              "      <td>30</td>\n",
              "      <td>32</td>\n",
              "      <td>29</td>\n",
              "      <td>28</td>\n",
              "    </tr>\n",
              "    <tr>\n",
              "      <th>3</th>\n",
              "      <td>A</td>\n",
              "      <td>B</td>\n",
              "      <td>O</td>\n",
              "      <td>AB</td>\n",
              "    </tr>\n",
              "  </tbody>\n",
              "</table>\n",
              "</div>"
            ],
            "text/plain": [
              "    X   Y   Z   T\n",
              "1  13  15  10  12\n",
              "2  30  32  29  28\n",
              "3   A   B   O  AB"
            ]
          },
          "metadata": {},
          "execution_count": 2
        }
      ]
    },
    {
      "cell_type": "markdown",
      "metadata": {
        "id": "CaGuRP93hGfO"
      },
      "source": [
        "- Khai báo dữ liệu theo dòng"
      ]
    },
    {
      "cell_type": "code",
      "metadata": {
        "colab": {
          "base_uri": "https://localhost:8080/",
          "height": 142
        },
        "id": "uzJ9H7yqhIjb",
        "outputId": "0ec19b9c-e67d-4ae1-8514-70ca927ebe1f"
      },
      "source": [
        "df= pd.DataFrame(\n",
        "    [\n",
        "     [13,15,10,12],\n",
        "     [30,32,29,28],\n",
        "     ['A','B','O','AB']\n",
        "    ],\n",
        "    index = [1,2,3]\n",
        ")\n",
        "df"
      ],
      "execution_count": 3,
      "outputs": [
        {
          "output_type": "execute_result",
          "data": {
            "text/html": [
              "<div>\n",
              "<style scoped>\n",
              "    .dataframe tbody tr th:only-of-type {\n",
              "        vertical-align: middle;\n",
              "    }\n",
              "\n",
              "    .dataframe tbody tr th {\n",
              "        vertical-align: top;\n",
              "    }\n",
              "\n",
              "    .dataframe thead th {\n",
              "        text-align: right;\n",
              "    }\n",
              "</style>\n",
              "<table border=\"1\" class=\"dataframe\">\n",
              "  <thead>\n",
              "    <tr style=\"text-align: right;\">\n",
              "      <th></th>\n",
              "      <th>0</th>\n",
              "      <th>1</th>\n",
              "      <th>2</th>\n",
              "      <th>3</th>\n",
              "    </tr>\n",
              "  </thead>\n",
              "  <tbody>\n",
              "    <tr>\n",
              "      <th>1</th>\n",
              "      <td>13</td>\n",
              "      <td>15</td>\n",
              "      <td>10</td>\n",
              "      <td>12</td>\n",
              "    </tr>\n",
              "    <tr>\n",
              "      <th>2</th>\n",
              "      <td>30</td>\n",
              "      <td>32</td>\n",
              "      <td>29</td>\n",
              "      <td>28</td>\n",
              "    </tr>\n",
              "    <tr>\n",
              "      <th>3</th>\n",
              "      <td>A</td>\n",
              "      <td>B</td>\n",
              "      <td>O</td>\n",
              "      <td>AB</td>\n",
              "    </tr>\n",
              "  </tbody>\n",
              "</table>\n",
              "</div>"
            ],
            "text/plain": [
              "    0   1   2   3\n",
              "1  13  15  10  12\n",
              "2  30  32  29  28\n",
              "3   A   B   O  AB"
            ]
          },
          "metadata": {},
          "execution_count": 3
        }
      ]
    },
    {
      "cell_type": "markdown",
      "metadata": {
        "id": "v2wEq0mTgwey"
      },
      "source": [
        "- Load từ file csv"
      ]
    },
    {
      "cell_type": "code",
      "metadata": {
        "colab": {
          "base_uri": "https://localhost:8080/",
          "height": 638
        },
        "id": "_i7m0a96hRzt",
        "outputId": "dc86cad3-f359-423e-8b86-4f755d0a2992"
      },
      "source": [
        "analyst = pd.read_csv('Book1.csv',encoding=\"utf-8\")\n",
        "analyst"
      ],
      "execution_count": 5,
      "outputs": [
        {
          "output_type": "execute_result",
          "data": {
            "text/html": [
              "<div>\n",
              "<style scoped>\n",
              "    .dataframe tbody tr th:only-of-type {\n",
              "        vertical-align: middle;\n",
              "    }\n",
              "\n",
              "    .dataframe tbody tr th {\n",
              "        vertical-align: top;\n",
              "    }\n",
              "\n",
              "    .dataframe thead th {\n",
              "        text-align: right;\n",
              "    }\n",
              "</style>\n",
              "<table border=\"1\" class=\"dataframe\">\n",
              "  <thead>\n",
              "    <tr style=\"text-align: right;\">\n",
              "      <th></th>\n",
              "      <th>Lop</th>\n",
              "      <th>Khoa</th>\n",
              "      <th>Diem Dau Vao</th>\n",
              "      <th>Trung Tuyen</th>\n",
              "      <th>Si so</th>\n",
              "      <th>HK1</th>\n",
              "      <th>HK2</th>\n",
              "      <th>HK3</th>\n",
              "      <th>HK4</th>\n",
              "      <th>HK5</th>\n",
              "    </tr>\n",
              "  </thead>\n",
              "  <tbody>\n",
              "    <tr>\n",
              "      <th>0</th>\n",
              "      <td>KTPM2018</td>\n",
              "      <td>CNPM</td>\n",
              "      <td>23.20</td>\n",
              "      <td>97.0</td>\n",
              "      <td>90</td>\n",
              "      <td>41</td>\n",
              "      <td>39</td>\n",
              "      <td>25</td>\n",
              "      <td>29</td>\n",
              "      <td>37</td>\n",
              "    </tr>\n",
              "    <tr>\n",
              "      <th>1</th>\n",
              "      <td>PMCL2018</td>\n",
              "      <td>CNPM</td>\n",
              "      <td>21.50</td>\n",
              "      <td>93.0</td>\n",
              "      <td>89</td>\n",
              "      <td>30</td>\n",
              "      <td>29</td>\n",
              "      <td>28</td>\n",
              "      <td>24</td>\n",
              "      <td>28</td>\n",
              "    </tr>\n",
              "    <tr>\n",
              "      <th>2</th>\n",
              "      <td>CTTT2018</td>\n",
              "      <td>HTTT</td>\n",
              "      <td>17.00</td>\n",
              "      <td>51.0</td>\n",
              "      <td>47</td>\n",
              "      <td>0</td>\n",
              "      <td>5</td>\n",
              "      <td>3</td>\n",
              "      <td>7</td>\n",
              "      <td>6</td>\n",
              "    </tr>\n",
              "    <tr>\n",
              "      <th>3</th>\n",
              "      <td>HTCL2018</td>\n",
              "      <td>HTTT</td>\n",
              "      <td>19.00</td>\n",
              "      <td>70.0</td>\n",
              "      <td>73</td>\n",
              "      <td>16</td>\n",
              "      <td>13</td>\n",
              "      <td>3</td>\n",
              "      <td>15</td>\n",
              "      <td>6</td>\n",
              "    </tr>\n",
              "    <tr>\n",
              "      <th>4</th>\n",
              "      <td>HTTT2018</td>\n",
              "      <td>HTTT</td>\n",
              "      <td>21.10</td>\n",
              "      <td>57.0</td>\n",
              "      <td>66</td>\n",
              "      <td>16</td>\n",
              "      <td>17</td>\n",
              "      <td>14</td>\n",
              "      <td>34</td>\n",
              "      <td>17</td>\n",
              "    </tr>\n",
              "    <tr>\n",
              "      <th>5</th>\n",
              "      <td>TM?T2018</td>\n",
              "      <td>HTTT</td>\n",
              "      <td>21.20</td>\n",
              "      <td>78.0</td>\n",
              "      <td>72</td>\n",
              "      <td>19</td>\n",
              "      <td>10</td>\n",
              "      <td>15</td>\n",
              "      <td>10</td>\n",
              "      <td>28</td>\n",
              "    </tr>\n",
              "    <tr>\n",
              "      <th>6</th>\n",
              "      <td>KHCL2018</td>\n",
              "      <td>KHMT</td>\n",
              "      <td>20.25</td>\n",
              "      <td>114.0</td>\n",
              "      <td>116</td>\n",
              "      <td>39</td>\n",
              "      <td>13</td>\n",
              "      <td>18</td>\n",
              "      <td>30</td>\n",
              "      <td>31</td>\n",
              "    </tr>\n",
              "    <tr>\n",
              "      <th>7</th>\n",
              "      <td>KHMT2018</td>\n",
              "      <td>KHMT</td>\n",
              "      <td>22.40</td>\n",
              "      <td>95.0</td>\n",
              "      <td>72</td>\n",
              "      <td>30</td>\n",
              "      <td>18</td>\n",
              "      <td>11</td>\n",
              "      <td>27</td>\n",
              "      <td>20</td>\n",
              "    </tr>\n",
              "    <tr>\n",
              "      <th>8</th>\n",
              "      <td>KHTN2018</td>\n",
              "      <td>KHMT</td>\n",
              "      <td>22.50</td>\n",
              "      <td>NaN</td>\n",
              "      <td>26</td>\n",
              "      <td>21</td>\n",
              "      <td>12</td>\n",
              "      <td>12</td>\n",
              "      <td>23</td>\n",
              "      <td>22</td>\n",
              "    </tr>\n",
              "    <tr>\n",
              "      <th>9</th>\n",
              "      <td>KTMT2018</td>\n",
              "      <td>KTMT</td>\n",
              "      <td>21.70</td>\n",
              "      <td>74.0</td>\n",
              "      <td>53</td>\n",
              "      <td>17</td>\n",
              "      <td>11</td>\n",
              "      <td>13</td>\n",
              "      <td>18</td>\n",
              "      <td>13</td>\n",
              "    </tr>\n",
              "    <tr>\n",
              "      <th>10</th>\n",
              "      <td>MTCL2018</td>\n",
              "      <td>KTMT</td>\n",
              "      <td>18.40</td>\n",
              "      <td>112.0</td>\n",
              "      <td>88</td>\n",
              "      <td>6</td>\n",
              "      <td>2</td>\n",
              "      <td>1</td>\n",
              "      <td>3</td>\n",
              "      <td>6</td>\n",
              "    </tr>\n",
              "    <tr>\n",
              "      <th>11</th>\n",
              "      <td>CNCL2018</td>\n",
              "      <td>KTTT</td>\n",
              "      <td>19.00</td>\n",
              "      <td>78.0</td>\n",
              "      <td>71</td>\n",
              "      <td>12</td>\n",
              "      <td>16</td>\n",
              "      <td>19</td>\n",
              "      <td>16</td>\n",
              "      <td>26</td>\n",
              "    </tr>\n",
              "    <tr>\n",
              "      <th>12</th>\n",
              "      <td>CNTT2018</td>\n",
              "      <td>KTTT</td>\n",
              "      <td>22.50</td>\n",
              "      <td>153.0</td>\n",
              "      <td>132</td>\n",
              "      <td>43</td>\n",
              "      <td>35</td>\n",
              "      <td>39</td>\n",
              "      <td>49</td>\n",
              "      <td>72</td>\n",
              "    </tr>\n",
              "    <tr>\n",
              "      <th>13</th>\n",
              "      <td>KHDL2018</td>\n",
              "      <td>KTTT</td>\n",
              "      <td>20.60</td>\n",
              "      <td>54.0</td>\n",
              "      <td>56</td>\n",
              "      <td>21</td>\n",
              "      <td>24</td>\n",
              "      <td>19</td>\n",
              "      <td>26</td>\n",
              "      <td>29</td>\n",
              "    </tr>\n",
              "    <tr>\n",
              "      <th>14</th>\n",
              "      <td>ATCL2018</td>\n",
              "      <td>MMTTT</td>\n",
              "      <td>20.10</td>\n",
              "      <td>67.0</td>\n",
              "      <td>61</td>\n",
              "      <td>7</td>\n",
              "      <td>8</td>\n",
              "      <td>6</td>\n",
              "      <td>17</td>\n",
              "      <td>10</td>\n",
              "    </tr>\n",
              "    <tr>\n",
              "      <th>15</th>\n",
              "      <td>ATTN2018</td>\n",
              "      <td>MMTTT</td>\n",
              "      <td>21.75</td>\n",
              "      <td>NaN</td>\n",
              "      <td>26</td>\n",
              "      <td>21</td>\n",
              "      <td>17</td>\n",
              "      <td>20</td>\n",
              "      <td>19</td>\n",
              "      <td>18</td>\n",
              "    </tr>\n",
              "    <tr>\n",
              "      <th>16</th>\n",
              "      <td>ATTT2018</td>\n",
              "      <td>MMTTT</td>\n",
              "      <td>22.25</td>\n",
              "      <td>77.0</td>\n",
              "      <td>51</td>\n",
              "      <td>10</td>\n",
              "      <td>10</td>\n",
              "      <td>14</td>\n",
              "      <td>21</td>\n",
              "      <td>15</td>\n",
              "    </tr>\n",
              "    <tr>\n",
              "      <th>17</th>\n",
              "      <td>MMCL2018</td>\n",
              "      <td>MMTTT</td>\n",
              "      <td>18.60</td>\n",
              "      <td>72.0</td>\n",
              "      <td>59</td>\n",
              "      <td>3</td>\n",
              "      <td>1</td>\n",
              "      <td>3</td>\n",
              "      <td>13</td>\n",
              "      <td>8</td>\n",
              "    </tr>\n",
              "    <tr>\n",
              "      <th>18</th>\n",
              "      <td>MMTT2018</td>\n",
              "      <td>MMTTT</td>\n",
              "      <td>21.20</td>\n",
              "      <td>69.0</td>\n",
              "      <td>62</td>\n",
              "      <td>10</td>\n",
              "      <td>8</td>\n",
              "      <td>10</td>\n",
              "      <td>13</td>\n",
              "      <td>17</td>\n",
              "    </tr>\n",
              "  </tbody>\n",
              "</table>\n",
              "</div>"
            ],
            "text/plain": [
              "         Lop   Khoa  Diem Dau Vao  Trung Tuyen  Si so  HK1  HK2  HK3  HK4  HK5\n",
              "0   KTPM2018   CNPM         23.20         97.0     90   41   39   25   29   37\n",
              "1   PMCL2018   CNPM         21.50         93.0     89   30   29   28   24   28\n",
              "2   CTTT2018   HTTT         17.00         51.0     47    0    5    3    7    6\n",
              "3   HTCL2018   HTTT         19.00         70.0     73   16   13    3   15    6\n",
              "4   HTTT2018   HTTT         21.10         57.0     66   16   17   14   34   17\n",
              "5   TM?T2018   HTTT         21.20         78.0     72   19   10   15   10   28\n",
              "6   KHCL2018   KHMT         20.25        114.0    116   39   13   18   30   31\n",
              "7   KHMT2018   KHMT         22.40         95.0     72   30   18   11   27   20\n",
              "8   KHTN2018   KHMT         22.50          NaN     26   21   12   12   23   22\n",
              "9   KTMT2018   KTMT         21.70         74.0     53   17   11   13   18   13\n",
              "10  MTCL2018   KTMT         18.40        112.0     88    6    2    1    3    6\n",
              "11  CNCL2018   KTTT         19.00         78.0     71   12   16   19   16   26\n",
              "12  CNTT2018   KTTT         22.50        153.0    132   43   35   39   49   72\n",
              "13  KHDL2018   KTTT         20.60         54.0     56   21   24   19   26   29\n",
              "14  ATCL2018  MMTTT         20.10         67.0     61    7    8    6   17   10\n",
              "15  ATTN2018  MMTTT         21.75          NaN     26   21   17   20   19   18\n",
              "16  ATTT2018  MMTTT         22.25         77.0     51   10   10   14   21   15\n",
              "17  MMCL2018  MMTTT         18.60         72.0     59    3    1    3   13    8\n",
              "18  MMTT2018  MMTTT         21.20         69.0     62   10    8   10   13   17"
            ]
          },
          "metadata": {},
          "execution_count": 5
        }
      ]
    },
    {
      "cell_type": "markdown",
      "metadata": {
        "id": "A3ms-ndAdl3O"
      },
      "source": [
        "**Gom nhóm dữ liệu với pivot**"
      ]
    },
    {
      "cell_type": "code",
      "metadata": {
        "colab": {
          "base_uri": "https://localhost:8080/",
          "height": 204
        },
        "id": "Y3BV3uGNdqU4",
        "outputId": "2565ca70-010a-4faf-c009-c609bd05b180"
      },
      "source": [
        "analyst.pivot(index=\"Lop\", columns=\"Khoa\",values=\"Diem Dau Vao\")\n",
        "analyst.head(5)"
      ],
      "execution_count": 13,
      "outputs": [
        {
          "output_type": "execute_result",
          "data": {
            "text/html": [
              "<div>\n",
              "<style scoped>\n",
              "    .dataframe tbody tr th:only-of-type {\n",
              "        vertical-align: middle;\n",
              "    }\n",
              "\n",
              "    .dataframe tbody tr th {\n",
              "        vertical-align: top;\n",
              "    }\n",
              "\n",
              "    .dataframe thead th {\n",
              "        text-align: right;\n",
              "    }\n",
              "</style>\n",
              "<table border=\"1\" class=\"dataframe\">\n",
              "  <thead>\n",
              "    <tr style=\"text-align: right;\">\n",
              "      <th></th>\n",
              "      <th>Lop</th>\n",
              "      <th>Khoa</th>\n",
              "      <th>Diem Dau Vao</th>\n",
              "      <th>Trung Tuyen</th>\n",
              "      <th>Si so</th>\n",
              "      <th>HK1</th>\n",
              "      <th>HK2</th>\n",
              "      <th>HK3</th>\n",
              "      <th>HK4</th>\n",
              "      <th>HK5</th>\n",
              "    </tr>\n",
              "  </thead>\n",
              "  <tbody>\n",
              "    <tr>\n",
              "      <th>0</th>\n",
              "      <td>KTPM2018</td>\n",
              "      <td>CNPM</td>\n",
              "      <td>23.2</td>\n",
              "      <td>97.0</td>\n",
              "      <td>90</td>\n",
              "      <td>41</td>\n",
              "      <td>39</td>\n",
              "      <td>25</td>\n",
              "      <td>29</td>\n",
              "      <td>37</td>\n",
              "    </tr>\n",
              "    <tr>\n",
              "      <th>1</th>\n",
              "      <td>PMCL2018</td>\n",
              "      <td>CNPM</td>\n",
              "      <td>21.5</td>\n",
              "      <td>93.0</td>\n",
              "      <td>89</td>\n",
              "      <td>30</td>\n",
              "      <td>29</td>\n",
              "      <td>28</td>\n",
              "      <td>24</td>\n",
              "      <td>28</td>\n",
              "    </tr>\n",
              "    <tr>\n",
              "      <th>2</th>\n",
              "      <td>CTTT2018</td>\n",
              "      <td>HTTT</td>\n",
              "      <td>17.0</td>\n",
              "      <td>51.0</td>\n",
              "      <td>47</td>\n",
              "      <td>0</td>\n",
              "      <td>5</td>\n",
              "      <td>3</td>\n",
              "      <td>7</td>\n",
              "      <td>6</td>\n",
              "    </tr>\n",
              "    <tr>\n",
              "      <th>3</th>\n",
              "      <td>HTCL2018</td>\n",
              "      <td>HTTT</td>\n",
              "      <td>19.0</td>\n",
              "      <td>70.0</td>\n",
              "      <td>73</td>\n",
              "      <td>16</td>\n",
              "      <td>13</td>\n",
              "      <td>3</td>\n",
              "      <td>15</td>\n",
              "      <td>6</td>\n",
              "    </tr>\n",
              "    <tr>\n",
              "      <th>4</th>\n",
              "      <td>HTTT2018</td>\n",
              "      <td>HTTT</td>\n",
              "      <td>21.1</td>\n",
              "      <td>57.0</td>\n",
              "      <td>66</td>\n",
              "      <td>16</td>\n",
              "      <td>17</td>\n",
              "      <td>14</td>\n",
              "      <td>34</td>\n",
              "      <td>17</td>\n",
              "    </tr>\n",
              "  </tbody>\n",
              "</table>\n",
              "</div>"
            ],
            "text/plain": [
              "        Lop  Khoa  Diem Dau Vao  Trung Tuyen  Si so  HK1  HK2  HK3  HK4  HK5\n",
              "0  KTPM2018  CNPM          23.2         97.0     90   41   39   25   29   37\n",
              "1  PMCL2018  CNPM          21.5         93.0     89   30   29   28   24   28\n",
              "2  CTTT2018  HTTT          17.0         51.0     47    0    5    3    7    6\n",
              "3  HTCL2018  HTTT          19.0         70.0     73   16   13    3   15    6\n",
              "4  HTTT2018  HTTT          21.1         57.0     66   16   17   14   34   17"
            ]
          },
          "metadata": {},
          "execution_count": 13
        }
      ]
    },
    {
      "cell_type": "markdown",
      "metadata": {
        "id": "fJbdoZoQeiHb"
      },
      "source": [
        "**Gom nhóm dữ liệu với pivot_table**"
      ]
    },
    {
      "cell_type": "code",
      "metadata": {
        "colab": {
          "base_uri": "https://localhost:8080/",
          "height": 266
        },
        "id": "plJkyQqedqZ5",
        "outputId": "e164d115-ca59-468c-8b7d-1532346adfad"
      },
      "source": [
        "import numpy as np\n",
        "analyst.pivot_table(index=\"Khoa\", values=\"Diem Dau Vao\",aggfunc=np.mean)"
      ],
      "execution_count": 10,
      "outputs": [
        {
          "output_type": "execute_result",
          "data": {
            "text/html": [
              "<div>\n",
              "<style scoped>\n",
              "    .dataframe tbody tr th:only-of-type {\n",
              "        vertical-align: middle;\n",
              "    }\n",
              "\n",
              "    .dataframe tbody tr th {\n",
              "        vertical-align: top;\n",
              "    }\n",
              "\n",
              "    .dataframe thead th {\n",
              "        text-align: right;\n",
              "    }\n",
              "</style>\n",
              "<table border=\"1\" class=\"dataframe\">\n",
              "  <thead>\n",
              "    <tr style=\"text-align: right;\">\n",
              "      <th></th>\n",
              "      <th>Diem Dau Vao</th>\n",
              "    </tr>\n",
              "    <tr>\n",
              "      <th>Khoa</th>\n",
              "      <th></th>\n",
              "    </tr>\n",
              "  </thead>\n",
              "  <tbody>\n",
              "    <tr>\n",
              "      <th>CNPM</th>\n",
              "      <td>22.350000</td>\n",
              "    </tr>\n",
              "    <tr>\n",
              "      <th>HTTT</th>\n",
              "      <td>19.575000</td>\n",
              "    </tr>\n",
              "    <tr>\n",
              "      <th>KHMT</th>\n",
              "      <td>21.716667</td>\n",
              "    </tr>\n",
              "    <tr>\n",
              "      <th>KTMT</th>\n",
              "      <td>20.050000</td>\n",
              "    </tr>\n",
              "    <tr>\n",
              "      <th>KTTT</th>\n",
              "      <td>20.700000</td>\n",
              "    </tr>\n",
              "    <tr>\n",
              "      <th>MMTTT</th>\n",
              "      <td>20.780000</td>\n",
              "    </tr>\n",
              "  </tbody>\n",
              "</table>\n",
              "</div>"
            ],
            "text/plain": [
              "       Diem Dau Vao\n",
              "Khoa               \n",
              "CNPM      22.350000\n",
              "HTTT      19.575000\n",
              "KHMT      21.716667\n",
              "KTMT      20.050000\n",
              "KTTT      20.700000\n",
              "MMTTT     20.780000"
            ]
          },
          "metadata": {},
          "execution_count": 10
        }
      ]
    },
    {
      "cell_type": "markdown",
      "metadata": {
        "id": "j6Cj18VbfM0u"
      },
      "source": [
        "**Nối dữ liệu theo chiều dọc với concat (axis = 0)**"
      ]
    },
    {
      "cell_type": "code",
      "metadata": {
        "colab": {
          "base_uri": "https://localhost:8080/",
          "height": 297
        },
        "id": "p_2TIVHHfR5W",
        "outputId": "b7ef4e68-40f3-41b8-f3d3-1ea88fdb6bc1"
      },
      "source": [
        "df1 = pd.DataFrame({\n",
        "    \"Nganh\": [\"KTPM\",\"KHMT\",\"CNTT\",\"ATTT\"],\n",
        "    \"Diem chuan\": [27,26,25.5,22],\n",
        "    \"Trung tuyen\": [60,44,35,55]},\n",
        "    index = [1,2,3,4])\n",
        "df2 = pd.DataFrame({\n",
        "    \"Nganh\": [\"KTMT\",\"KHDL\",\"MMTT\",\"TMDT\"],\n",
        "    \"Diem chuan\": [25,24,23,21],\n",
        "    \"Trung tuyen\": [54,33,54,76],\n",
        "    \"HDT\": [\"CLC\",\"DT\",\"CLC\",\"DT\"]},\n",
        "    index = [1,2,3,4])\n",
        "df_new = pd.concat([df1,df2])\n",
        "df_new\n"
      ],
      "execution_count": 16,
      "outputs": [
        {
          "output_type": "execute_result",
          "data": {
            "text/html": [
              "<div>\n",
              "<style scoped>\n",
              "    .dataframe tbody tr th:only-of-type {\n",
              "        vertical-align: middle;\n",
              "    }\n",
              "\n",
              "    .dataframe tbody tr th {\n",
              "        vertical-align: top;\n",
              "    }\n",
              "\n",
              "    .dataframe thead th {\n",
              "        text-align: right;\n",
              "    }\n",
              "</style>\n",
              "<table border=\"1\" class=\"dataframe\">\n",
              "  <thead>\n",
              "    <tr style=\"text-align: right;\">\n",
              "      <th></th>\n",
              "      <th>Nganh</th>\n",
              "      <th>Diem chuan</th>\n",
              "      <th>Trung tuyen</th>\n",
              "      <th>HDT</th>\n",
              "    </tr>\n",
              "  </thead>\n",
              "  <tbody>\n",
              "    <tr>\n",
              "      <th>1</th>\n",
              "      <td>KTPM</td>\n",
              "      <td>27.0</td>\n",
              "      <td>60</td>\n",
              "      <td>NaN</td>\n",
              "    </tr>\n",
              "    <tr>\n",
              "      <th>2</th>\n",
              "      <td>KHMT</td>\n",
              "      <td>26.0</td>\n",
              "      <td>44</td>\n",
              "      <td>NaN</td>\n",
              "    </tr>\n",
              "    <tr>\n",
              "      <th>3</th>\n",
              "      <td>CNTT</td>\n",
              "      <td>25.5</td>\n",
              "      <td>35</td>\n",
              "      <td>NaN</td>\n",
              "    </tr>\n",
              "    <tr>\n",
              "      <th>4</th>\n",
              "      <td>ATTT</td>\n",
              "      <td>22.0</td>\n",
              "      <td>55</td>\n",
              "      <td>NaN</td>\n",
              "    </tr>\n",
              "    <tr>\n",
              "      <th>1</th>\n",
              "      <td>KTMT</td>\n",
              "      <td>25.0</td>\n",
              "      <td>54</td>\n",
              "      <td>CLC</td>\n",
              "    </tr>\n",
              "    <tr>\n",
              "      <th>2</th>\n",
              "      <td>KHDL</td>\n",
              "      <td>24.0</td>\n",
              "      <td>33</td>\n",
              "      <td>DT</td>\n",
              "    </tr>\n",
              "    <tr>\n",
              "      <th>3</th>\n",
              "      <td>MMTT</td>\n",
              "      <td>23.0</td>\n",
              "      <td>54</td>\n",
              "      <td>CLC</td>\n",
              "    </tr>\n",
              "    <tr>\n",
              "      <th>4</th>\n",
              "      <td>TMDT</td>\n",
              "      <td>21.0</td>\n",
              "      <td>76</td>\n",
              "      <td>DT</td>\n",
              "    </tr>\n",
              "  </tbody>\n",
              "</table>\n",
              "</div>"
            ],
            "text/plain": [
              "  Nganh  Diem chuan  Trung tuyen  HDT\n",
              "1  KTPM        27.0           60  NaN\n",
              "2  KHMT        26.0           44  NaN\n",
              "3  CNTT        25.5           35  NaN\n",
              "4  ATTT        22.0           55  NaN\n",
              "1  KTMT        25.0           54  CLC\n",
              "2  KHDL        24.0           33   DT\n",
              "3  MMTT        23.0           54  CLC\n",
              "4  TMDT        21.0           76   DT"
            ]
          },
          "metadata": {},
          "execution_count": 16
        }
      ]
    },
    {
      "cell_type": "markdown",
      "metadata": {
        "id": "NcfL_pcvgRlS"
      },
      "source": [
        "**Điền giá trị khuyết với fillna**"
      ]
    },
    {
      "cell_type": "code",
      "metadata": {
        "colab": {
          "base_uri": "https://localhost:8080/",
          "height": 297
        },
        "id": "Vj3CnCSXgUO2",
        "outputId": "60190254-3c5f-4ae7-9e69-f66be9deeb68"
      },
      "source": [
        "df_new.fillna(\"DT\")"
      ],
      "execution_count": 21,
      "outputs": [
        {
          "output_type": "execute_result",
          "data": {
            "text/html": [
              "<div>\n",
              "<style scoped>\n",
              "    .dataframe tbody tr th:only-of-type {\n",
              "        vertical-align: middle;\n",
              "    }\n",
              "\n",
              "    .dataframe tbody tr th {\n",
              "        vertical-align: top;\n",
              "    }\n",
              "\n",
              "    .dataframe thead th {\n",
              "        text-align: right;\n",
              "    }\n",
              "</style>\n",
              "<table border=\"1\" class=\"dataframe\">\n",
              "  <thead>\n",
              "    <tr style=\"text-align: right;\">\n",
              "      <th></th>\n",
              "      <th>Nganh</th>\n",
              "      <th>Diem chuan</th>\n",
              "      <th>Trung tuyen</th>\n",
              "      <th>HDT</th>\n",
              "    </tr>\n",
              "  </thead>\n",
              "  <tbody>\n",
              "    <tr>\n",
              "      <th>1</th>\n",
              "      <td>KTPM</td>\n",
              "      <td>27.0</td>\n",
              "      <td>60</td>\n",
              "      <td>DT</td>\n",
              "    </tr>\n",
              "    <tr>\n",
              "      <th>2</th>\n",
              "      <td>KHMT</td>\n",
              "      <td>26.0</td>\n",
              "      <td>44</td>\n",
              "      <td>DT</td>\n",
              "    </tr>\n",
              "    <tr>\n",
              "      <th>3</th>\n",
              "      <td>CNTT</td>\n",
              "      <td>25.5</td>\n",
              "      <td>35</td>\n",
              "      <td>DT</td>\n",
              "    </tr>\n",
              "    <tr>\n",
              "      <th>4</th>\n",
              "      <td>ATTT</td>\n",
              "      <td>22.0</td>\n",
              "      <td>55</td>\n",
              "      <td>DT</td>\n",
              "    </tr>\n",
              "    <tr>\n",
              "      <th>1</th>\n",
              "      <td>KTMT</td>\n",
              "      <td>25.0</td>\n",
              "      <td>54</td>\n",
              "      <td>CLC</td>\n",
              "    </tr>\n",
              "    <tr>\n",
              "      <th>2</th>\n",
              "      <td>KHDL</td>\n",
              "      <td>24.0</td>\n",
              "      <td>33</td>\n",
              "      <td>DT</td>\n",
              "    </tr>\n",
              "    <tr>\n",
              "      <th>3</th>\n",
              "      <td>MMTT</td>\n",
              "      <td>23.0</td>\n",
              "      <td>54</td>\n",
              "      <td>CLC</td>\n",
              "    </tr>\n",
              "    <tr>\n",
              "      <th>4</th>\n",
              "      <td>TMDT</td>\n",
              "      <td>21.0</td>\n",
              "      <td>76</td>\n",
              "      <td>DT</td>\n",
              "    </tr>\n",
              "  </tbody>\n",
              "</table>\n",
              "</div>"
            ],
            "text/plain": [
              "  Nganh  Diem chuan  Trung tuyen  HDT\n",
              "1  KTPM        27.0           60   DT\n",
              "2  KHMT        26.0           44   DT\n",
              "3  CNTT        25.5           35   DT\n",
              "4  ATTT        22.0           55   DT\n",
              "1  KTMT        25.0           54  CLC\n",
              "2  KHDL        24.0           33   DT\n",
              "3  MMTT        23.0           54  CLC\n",
              "4  TMDT        21.0           76   DT"
            ]
          },
          "metadata": {},
          "execution_count": 21
        }
      ]
    },
    {
      "cell_type": "markdown",
      "metadata": {
        "id": "VZ42BjoNgr6x"
      },
      "source": [
        "**Nối dữ liệu theo chiều ngang với concat (axis=1)**"
      ]
    },
    {
      "cell_type": "code",
      "metadata": {
        "colab": {
          "base_uri": "https://localhost:8080/",
          "height": 173
        },
        "id": "w_ZTM84rgvuF",
        "outputId": "c64a116a-1f91-4def-ac7c-796117e2ac57"
      },
      "source": [
        "df1 = pd.DataFrame({\n",
        "    \"Nganh\": [\"KTPM\",\"KHMT\",\"CNTT\",\"ATTT\"],\n",
        "    \"Diem chuan\": [27,26,25.5,22],\n",
        "    \"Trung tuyen\": [60,44,35,55]},\n",
        "    index = [1,2,3,4])\n",
        "df2 = pd.DataFrame({\n",
        "    \"HDT\": [\"CLC\",\"DT\",\"CLC\",],\n",
        "    \"Hoc phi\": [15000,6000,15000]},\n",
        "    index = [1,2,3])\n",
        "df_new = pd.concat([df1,df2],axis =1)\n",
        "df_new\n"
      ],
      "execution_count": 22,
      "outputs": [
        {
          "output_type": "execute_result",
          "data": {
            "text/html": [
              "<div>\n",
              "<style scoped>\n",
              "    .dataframe tbody tr th:only-of-type {\n",
              "        vertical-align: middle;\n",
              "    }\n",
              "\n",
              "    .dataframe tbody tr th {\n",
              "        vertical-align: top;\n",
              "    }\n",
              "\n",
              "    .dataframe thead th {\n",
              "        text-align: right;\n",
              "    }\n",
              "</style>\n",
              "<table border=\"1\" class=\"dataframe\">\n",
              "  <thead>\n",
              "    <tr style=\"text-align: right;\">\n",
              "      <th></th>\n",
              "      <th>Nganh</th>\n",
              "      <th>Diem chuan</th>\n",
              "      <th>Trung tuyen</th>\n",
              "      <th>HDT</th>\n",
              "      <th>Hoc phi</th>\n",
              "    </tr>\n",
              "  </thead>\n",
              "  <tbody>\n",
              "    <tr>\n",
              "      <th>1</th>\n",
              "      <td>KTPM</td>\n",
              "      <td>27.0</td>\n",
              "      <td>60</td>\n",
              "      <td>CLC</td>\n",
              "      <td>15000.0</td>\n",
              "    </tr>\n",
              "    <tr>\n",
              "      <th>2</th>\n",
              "      <td>KHMT</td>\n",
              "      <td>26.0</td>\n",
              "      <td>44</td>\n",
              "      <td>DT</td>\n",
              "      <td>6000.0</td>\n",
              "    </tr>\n",
              "    <tr>\n",
              "      <th>3</th>\n",
              "      <td>CNTT</td>\n",
              "      <td>25.5</td>\n",
              "      <td>35</td>\n",
              "      <td>CLC</td>\n",
              "      <td>15000.0</td>\n",
              "    </tr>\n",
              "    <tr>\n",
              "      <th>4</th>\n",
              "      <td>ATTT</td>\n",
              "      <td>22.0</td>\n",
              "      <td>55</td>\n",
              "      <td>NaN</td>\n",
              "      <td>NaN</td>\n",
              "    </tr>\n",
              "  </tbody>\n",
              "</table>\n",
              "</div>"
            ],
            "text/plain": [
              "  Nganh  Diem chuan  Trung tuyen  HDT  Hoc phi\n",
              "1  KTPM        27.0           60  CLC  15000.0\n",
              "2  KHMT        26.0           44   DT   6000.0\n",
              "3  CNTT        25.5           35  CLC  15000.0\n",
              "4  ATTT        22.0           55  NaN      NaN"
            ]
          },
          "metadata": {},
          "execution_count": 22
        }
      ]
    },
    {
      "cell_type": "markdown",
      "metadata": {
        "id": "Cgtd0Zk0hLZg"
      },
      "source": [
        "**Lấy tập con theo dòng**"
      ]
    },
    {
      "cell_type": "code",
      "metadata": {
        "colab": {
          "base_uri": "https://localhost:8080/",
          "height": 111
        },
        "id": "a7Ssgvw9hNeQ",
        "outputId": "83afbc39-f9e5-4a26-edb9-62a84ffd32b2"
      },
      "source": [
        "sub_df = df_new[df_new.HDT == \"CLC\"]\n",
        "sub_df"
      ],
      "execution_count": 26,
      "outputs": [
        {
          "output_type": "execute_result",
          "data": {
            "text/html": [
              "<div>\n",
              "<style scoped>\n",
              "    .dataframe tbody tr th:only-of-type {\n",
              "        vertical-align: middle;\n",
              "    }\n",
              "\n",
              "    .dataframe tbody tr th {\n",
              "        vertical-align: top;\n",
              "    }\n",
              "\n",
              "    .dataframe thead th {\n",
              "        text-align: right;\n",
              "    }\n",
              "</style>\n",
              "<table border=\"1\" class=\"dataframe\">\n",
              "  <thead>\n",
              "    <tr style=\"text-align: right;\">\n",
              "      <th></th>\n",
              "      <th>Nganh</th>\n",
              "      <th>Diem chuan</th>\n",
              "      <th>Trung tuyen</th>\n",
              "      <th>HDT</th>\n",
              "      <th>Hoc phi</th>\n",
              "    </tr>\n",
              "  </thead>\n",
              "  <tbody>\n",
              "    <tr>\n",
              "      <th>1</th>\n",
              "      <td>KTPM</td>\n",
              "      <td>27.0</td>\n",
              "      <td>60</td>\n",
              "      <td>CLC</td>\n",
              "      <td>15000.0</td>\n",
              "    </tr>\n",
              "    <tr>\n",
              "      <th>3</th>\n",
              "      <td>CNTT</td>\n",
              "      <td>25.5</td>\n",
              "      <td>35</td>\n",
              "      <td>CLC</td>\n",
              "      <td>15000.0</td>\n",
              "    </tr>\n",
              "  </tbody>\n",
              "</table>\n",
              "</div>"
            ],
            "text/plain": [
              "  Nganh  Diem chuan  Trung tuyen  HDT  Hoc phi\n",
              "1  KTPM        27.0           60  CLC  15000.0\n",
              "3  CNTT        25.5           35  CLC  15000.0"
            ]
          },
          "metadata": {},
          "execution_count": 26
        }
      ]
    },
    {
      "cell_type": "code",
      "metadata": {
        "colab": {
          "base_uri": "https://localhost:8080/",
          "height": 111
        },
        "id": "Ltwx8NwKhjmf",
        "outputId": "399ba2e6-06b6-4e66-9bc0-07f8594c444a"
      },
      "source": [
        "sub_df = df_new[df_new.Nganh.isin([\"KTPM\",\"KHMT\"])]\n",
        "sub_df"
      ],
      "execution_count": 30,
      "outputs": [
        {
          "output_type": "execute_result",
          "data": {
            "text/html": [
              "<div>\n",
              "<style scoped>\n",
              "    .dataframe tbody tr th:only-of-type {\n",
              "        vertical-align: middle;\n",
              "    }\n",
              "\n",
              "    .dataframe tbody tr th {\n",
              "        vertical-align: top;\n",
              "    }\n",
              "\n",
              "    .dataframe thead th {\n",
              "        text-align: right;\n",
              "    }\n",
              "</style>\n",
              "<table border=\"1\" class=\"dataframe\">\n",
              "  <thead>\n",
              "    <tr style=\"text-align: right;\">\n",
              "      <th></th>\n",
              "      <th>Nganh</th>\n",
              "      <th>Diem chuan</th>\n",
              "      <th>Trung tuyen</th>\n",
              "      <th>HDT</th>\n",
              "      <th>Hoc phi</th>\n",
              "    </tr>\n",
              "  </thead>\n",
              "  <tbody>\n",
              "    <tr>\n",
              "      <th>1</th>\n",
              "      <td>KTPM</td>\n",
              "      <td>27.0</td>\n",
              "      <td>60</td>\n",
              "      <td>CLC</td>\n",
              "      <td>15000.0</td>\n",
              "    </tr>\n",
              "    <tr>\n",
              "      <th>2</th>\n",
              "      <td>KHMT</td>\n",
              "      <td>26.0</td>\n",
              "      <td>44</td>\n",
              "      <td>DT</td>\n",
              "      <td>6000.0</td>\n",
              "    </tr>\n",
              "  </tbody>\n",
              "</table>\n",
              "</div>"
            ],
            "text/plain": [
              "  Nganh  Diem chuan  Trung tuyen  HDT  Hoc phi\n",
              "1  KTPM        27.0           60  CLC  15000.0\n",
              "2  KHMT        26.0           44   DT   6000.0"
            ]
          },
          "metadata": {},
          "execution_count": 30
        }
      ]
    },
    {
      "cell_type": "markdown",
      "metadata": {
        "id": "A8rCX8Cyh_Io"
      },
      "source": [
        "**Lấy tập con theo cột**"
      ]
    },
    {
      "cell_type": "code",
      "metadata": {
        "colab": {
          "base_uri": "https://localhost:8080/"
        },
        "id": "rSELq6yniB9p",
        "outputId": "9c9088d7-88dc-49f7-d345-47c4ee56d6d9"
      },
      "source": [
        "col_Nganh = df_new.Nganh\n",
        "col_Nganh\n"
      ],
      "execution_count": 32,
      "outputs": [
        {
          "output_type": "execute_result",
          "data": {
            "text/plain": [
              "1    KTPM\n",
              "2    KHMT\n",
              "3    CNTT\n",
              "4    ATTT\n",
              "Name: Nganh, dtype: object"
            ]
          },
          "metadata": {},
          "execution_count": 32
        }
      ]
    },
    {
      "cell_type": "markdown",
      "metadata": {
        "id": "A0tsaIioiOX1"
      },
      "source": [
        "**Tạo cột mới**"
      ]
    },
    {
      "cell_type": "code",
      "metadata": {
        "colab": {
          "base_uri": "https://localhost:8080/",
          "height": 204
        },
        "id": "yp95Rx_tiQaq",
        "outputId": "ac0479dd-a372-45fe-8fb4-ebd5908321dd"
      },
      "source": [
        "analyst['10_percent'] = analyst.HK1*0.1\n",
        "analyst.head(5)"
      ],
      "execution_count": 36,
      "outputs": [
        {
          "output_type": "execute_result",
          "data": {
            "text/html": [
              "<div>\n",
              "<style scoped>\n",
              "    .dataframe tbody tr th:only-of-type {\n",
              "        vertical-align: middle;\n",
              "    }\n",
              "\n",
              "    .dataframe tbody tr th {\n",
              "        vertical-align: top;\n",
              "    }\n",
              "\n",
              "    .dataframe thead th {\n",
              "        text-align: right;\n",
              "    }\n",
              "</style>\n",
              "<table border=\"1\" class=\"dataframe\">\n",
              "  <thead>\n",
              "    <tr style=\"text-align: right;\">\n",
              "      <th></th>\n",
              "      <th>Lop</th>\n",
              "      <th>Khoa</th>\n",
              "      <th>Diem Dau Vao</th>\n",
              "      <th>Trung Tuyen</th>\n",
              "      <th>Si so</th>\n",
              "      <th>HK1</th>\n",
              "      <th>HK2</th>\n",
              "      <th>HK3</th>\n",
              "      <th>HK4</th>\n",
              "      <th>HK5</th>\n",
              "      <th>10_percent</th>\n",
              "    </tr>\n",
              "  </thead>\n",
              "  <tbody>\n",
              "    <tr>\n",
              "      <th>0</th>\n",
              "      <td>KTPM2018</td>\n",
              "      <td>CNPM</td>\n",
              "      <td>23.2</td>\n",
              "      <td>97.0</td>\n",
              "      <td>90</td>\n",
              "      <td>41</td>\n",
              "      <td>39</td>\n",
              "      <td>25</td>\n",
              "      <td>29</td>\n",
              "      <td>37</td>\n",
              "      <td>4.1</td>\n",
              "    </tr>\n",
              "    <tr>\n",
              "      <th>1</th>\n",
              "      <td>PMCL2018</td>\n",
              "      <td>CNPM</td>\n",
              "      <td>21.5</td>\n",
              "      <td>93.0</td>\n",
              "      <td>89</td>\n",
              "      <td>30</td>\n",
              "      <td>29</td>\n",
              "      <td>28</td>\n",
              "      <td>24</td>\n",
              "      <td>28</td>\n",
              "      <td>3.0</td>\n",
              "    </tr>\n",
              "    <tr>\n",
              "      <th>2</th>\n",
              "      <td>CTTT2018</td>\n",
              "      <td>HTTT</td>\n",
              "      <td>17.0</td>\n",
              "      <td>51.0</td>\n",
              "      <td>47</td>\n",
              "      <td>0</td>\n",
              "      <td>5</td>\n",
              "      <td>3</td>\n",
              "      <td>7</td>\n",
              "      <td>6</td>\n",
              "      <td>0.0</td>\n",
              "    </tr>\n",
              "    <tr>\n",
              "      <th>3</th>\n",
              "      <td>HTCL2018</td>\n",
              "      <td>HTTT</td>\n",
              "      <td>19.0</td>\n",
              "      <td>70.0</td>\n",
              "      <td>73</td>\n",
              "      <td>16</td>\n",
              "      <td>13</td>\n",
              "      <td>3</td>\n",
              "      <td>15</td>\n",
              "      <td>6</td>\n",
              "      <td>1.6</td>\n",
              "    </tr>\n",
              "    <tr>\n",
              "      <th>4</th>\n",
              "      <td>HTTT2018</td>\n",
              "      <td>HTTT</td>\n",
              "      <td>21.1</td>\n",
              "      <td>57.0</td>\n",
              "      <td>66</td>\n",
              "      <td>16</td>\n",
              "      <td>17</td>\n",
              "      <td>14</td>\n",
              "      <td>34</td>\n",
              "      <td>17</td>\n",
              "      <td>1.6</td>\n",
              "    </tr>\n",
              "  </tbody>\n",
              "</table>\n",
              "</div>"
            ],
            "text/plain": [
              "        Lop  Khoa  Diem Dau Vao  Trung Tuyen  ...  HK3  HK4  HK5  10_percent\n",
              "0  KTPM2018  CNPM          23.2         97.0  ...   25   29   37         4.1\n",
              "1  PMCL2018  CNPM          21.5         93.0  ...   28   24   28         3.0\n",
              "2  CTTT2018  HTTT          17.0         51.0  ...    3    7    6         0.0\n",
              "3  HTCL2018  HTTT          19.0         70.0  ...    3   15    6         1.6\n",
              "4  HTTT2018  HTTT          21.1         57.0  ...   14   34   17         1.6\n",
              "\n",
              "[5 rows x 11 columns]"
            ]
          },
          "metadata": {},
          "execution_count": 36
        }
      ]
    },
    {
      "cell_type": "markdown",
      "metadata": {
        "id": "LGacvSLBipwp"
      },
      "source": [
        "**Vẽ biểu đồ với plot**"
      ]
    },
    {
      "cell_type": "code",
      "metadata": {
        "colab": {
          "base_uri": "https://localhost:8080/",
          "height": 282
        },
        "id": "ZC2JhkRyis4S",
        "outputId": "09b358dd-1904-49b4-e66e-f9f336b1e811"
      },
      "source": [
        "df_new.plot.hist()"
      ],
      "execution_count": 41,
      "outputs": [
        {
          "output_type": "execute_result",
          "data": {
            "text/plain": [
              "<matplotlib.axes._subplots.AxesSubplot at 0x7fe8aea78b90>"
            ]
          },
          "metadata": {},
          "execution_count": 41
        },
        {
          "output_type": "display_data",
          "data": {
            "image/png": "[encoded data removed]",
            "text/plain": [
              "<Figure size 432x288 with 1 Axes>"
            ]
          },
          "metadata": {
            "needs_background": "light"
          }
        }
      ]
    },
    {
      "cell_type": "code",
      "metadata": {
        "colab": {
          "base_uri": "https://localhost:8080/",
          "height": 296
        },
        "id": "3qeVN95Ti7oN",
        "outputId": "f5872787-01c3-47bc-e40a-c9d0c3b8646f"
      },
      "source": [
        "analyst.plot.scatter(x=\"Lop\",y=\"Diem Dau Vao\")"
      ],
      "execution_count": 40,
      "outputs": [
        {
          "output_type": "execute_result",
          "data": {
            "text/plain": [
              "<matplotlib.axes._subplots.AxesSubplot at 0x7fe8aeb2d7d0>"
            ]
          },
          "metadata": {},
          "execution_count": 40
        },
        {
          "output_type": "display_data",
          "data": {
            "image/png": "[encoded data removed]",
            "text/plain": [
              "<Figure size 432x288 with 1 Axes>"
            ]
          },
          "metadata": {
            "needs_background": "light"
          }
        }
      ]
    }
  ]
}